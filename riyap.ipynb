{
 "cells": [
  {
   "cell_type": "code",
   "execution_count": 5,
   "id": "2d4d8062",
   "metadata": {},
   "outputs": [
    {
     "name": "stdout",
     "output_type": "stream",
     "text": [
      "22\n"
     ]
    }
   ],
   "source": [
    "a=12\n",
    "b=10\n",
    "c=a+b\n",
    "print(c)"
   ]
  },
  {
   "cell_type": "code",
   "execution_count": 6,
   "id": "fb24a918",
   "metadata": {},
   "outputs": [
    {
     "name": "stdout",
     "output_type": "stream",
     "text": [
      "853\n"
     ]
    }
   ],
   "source": [
    "a=93\n",
    "b=76\n",
    "c=10\n",
    "add=a+b*c\n",
    "print(add)\n"
   ]
  },
  {
   "cell_type": "code",
   "execution_count": 11,
   "id": "324e538d",
   "metadata": {},
   "outputs": [
    {
     "name": "stdout",
     "output_type": "stream",
     "text": [
      "44\n"
     ]
    }
   ],
   "source": [
    "a=20\n",
    "b=45\n",
    "c=-21\n",
    "add=a+b+c\n",
    "print(add)"
   ]
  },
  {
   "cell_type": "code",
   "execution_count": 12,
   "id": "6d1fd313",
   "metadata": {},
   "outputs": [
    {
     "name": "stdout",
     "output_type": "stream",
     "text": [
      "['apple', 'riya', 'shobhit_university']\n"
     ]
    }
   ],
   "source": [
    "x=[\"apple\",\"riya\",\"shobhit_university\"]\n",
    "print(x)"
   ]
  },
  {
   "cell_type": "code",
   "execution_count": 13,
   "id": "343ef206",
   "metadata": {},
   "outputs": [
    {
     "data": {
      "text/plain": [
       "'apple'"
      ]
     },
     "execution_count": 13,
     "metadata": {},
     "output_type": "execute_result"
    }
   ],
   "source": [
    "x[0]"
   ]
  },
  {
   "cell_type": "code",
   "execution_count": 16,
   "id": "c2fd9ac3",
   "metadata": {},
   "outputs": [
    {
     "data": {
      "text/plain": [
       "'riya'"
      ]
     },
     "execution_count": 16,
     "metadata": {},
     "output_type": "execute_result"
    }
   ],
   "source": [
    "x[1]"
   ]
  },
  {
   "cell_type": "code",
   "execution_count": 17,
   "id": "6351e627",
   "metadata": {},
   "outputs": [
    {
     "data": {
      "text/plain": [
       "'shobhit_university'"
      ]
     },
     "execution_count": 17,
     "metadata": {},
     "output_type": "execute_result"
    }
   ],
   "source": [
    "x[2]"
   ]
  },
  {
   "cell_type": "code",
   "execution_count": 19,
   "id": "279a21ce",
   "metadata": {},
   "outputs": [
    {
     "name": "stdout",
     "output_type": "stream",
     "text": [
      "3\n"
     ]
    }
   ],
   "source": [
    "print(len(x))"
   ]
  },
  {
   "cell_type": "code",
   "execution_count": 21,
   "id": "ac1edfc7",
   "metadata": {},
   "outputs": [
    {
     "name": "stdout",
     "output_type": "stream",
     "text": [
      "hello falak\n",
      "how are you\n",
      "triple quotes are generally used for represent the multiline or docstring\n"
     ]
    }
   ],
   "source": [
    "riya='hello falak'\n",
    "print(riya)\n",
    "riya1=\"how are you\"\n",
    "r='''triple quotes are generally used for represent the multiline or docstring'''\n",
    "print(riya1)\n",
    "print(r)"
   ]
  },
  {
   "cell_type": "code",
   "execution_count": 22,
   "id": "f5719038",
   "metadata": {},
   "outputs": [
    {
     "name": "stdout",
     "output_type": "stream",
     "text": [
      "h\n"
     ]
    }
   ],
   "source": [
    "print(riya[0])"
   ]
  },
  {
   "cell_type": "code",
   "execution_count": 23,
   "id": "da2dcb38",
   "metadata": {},
   "outputs": [
    {
     "name": "stdout",
     "output_type": "stream",
     "text": [
      "11\n"
     ]
    }
   ],
   "source": [
    "print(len(riya))"
   ]
  },
  {
   "cell_type": "code",
   "execution_count": 24,
   "id": "21564841",
   "metadata": {},
   "outputs": [
    {
     "name": "stdout",
     "output_type": "stream",
     "text": [
      "f\n"
     ]
    }
   ],
   "source": [
    "print(riya[6])"
   ]
  },
  {
   "cell_type": "code",
   "execution_count": 25,
   "id": "f3327ef8",
   "metadata": {},
   "outputs": [
    {
     "name": "stdout",
     "output_type": "stream",
     "text": [
      "e\n"
     ]
    }
   ],
   "source": [
    "print(riya[1])"
   ]
  },
  {
   "cell_type": "code",
   "execution_count": 26,
   "id": "4a4c6995",
   "metadata": {},
   "outputs": [
    {
     "name": "stdout",
     "output_type": "stream",
     "text": [
      "l\n"
     ]
    }
   ],
   "source": [
    "print(riya[2])"
   ]
  },
  {
   "cell_type": "code",
   "execution_count": 27,
   "id": "b7a2ee15",
   "metadata": {},
   "outputs": [
    {
     "name": "stdout",
     "output_type": "stream",
     "text": [
      "l\n"
     ]
    }
   ],
   "source": [
    "print(riya[3])"
   ]
  },
  {
   "cell_type": "code",
   "execution_count": 28,
   "id": "e2715a07",
   "metadata": {},
   "outputs": [
    {
     "name": "stdout",
     "output_type": "stream",
     "text": [
      "o\n"
     ]
    }
   ],
   "source": [
    "print(riya[4])"
   ]
  },
  {
   "cell_type": "code",
   "execution_count": 29,
   "id": "23e4e800",
   "metadata": {},
   "outputs": [
    {
     "name": "stdout",
     "output_type": "stream",
     "text": [
      " \n"
     ]
    }
   ],
   "source": [
    "print(riya[5])"
   ]
  },
  {
   "cell_type": "code",
   "execution_count": 30,
   "id": "e86eea2d",
   "metadata": {},
   "outputs": [
    {
     "name": "stdout",
     "output_type": "stream",
     "text": [
      "f\n"
     ]
    }
   ],
   "source": [
    "print(riya[6])"
   ]
  },
  {
   "cell_type": "code",
   "execution_count": 31,
   "id": "77bb7739",
   "metadata": {},
   "outputs": [
    {
     "name": "stdout",
     "output_type": "stream",
     "text": [
      "a\n"
     ]
    }
   ],
   "source": [
    "print(riya[7])"
   ]
  },
  {
   "cell_type": "code",
   "execution_count": 32,
   "id": "4c81b983",
   "metadata": {},
   "outputs": [
    {
     "name": "stdout",
     "output_type": "stream",
     "text": [
      "l\n"
     ]
    }
   ],
   "source": [
    "print(riya[8])"
   ]
  },
  {
   "cell_type": "code",
   "execution_count": 33,
   "id": "17b4f438",
   "metadata": {},
   "outputs": [
    {
     "name": "stdout",
     "output_type": "stream",
     "text": [
      "a\n"
     ]
    }
   ],
   "source": [
    "print(riya[9])"
   ]
  },
  {
   "cell_type": "code",
   "execution_count": 34,
   "id": "04550f6b",
   "metadata": {},
   "outputs": [
    {
     "name": "stdout",
     "output_type": "stream",
     "text": [
      "k\n"
     ]
    }
   ],
   "source": [
    "print(riya[10])"
   ]
  },
  {
   "cell_type": "code",
   "execution_count": 36,
   "id": "1852f985",
   "metadata": {},
   "outputs": [
    {
     "ename": "IndexError",
     "evalue": "string index out of range",
     "output_type": "error",
     "traceback": [
      "\u001b[1;31m---------------------------------------------------------------------------\u001b[0m",
      "\u001b[1;31mIndexError\u001b[0m                                Traceback (most recent call last)",
      "\u001b[1;32m~\\AppData\\Local\\Temp\\ipykernel_3436\\2171094994.py\u001b[0m in \u001b[0;36m<module>\u001b[1;34m\u001b[0m\n\u001b[1;32m----> 1\u001b[1;33m \u001b[0mprint\u001b[0m\u001b[1;33m(\u001b[0m\u001b[0mriya\u001b[0m\u001b[1;33m[\u001b[0m\u001b[1;36m11\u001b[0m\u001b[1;33m]\u001b[0m\u001b[1;33m)\u001b[0m\u001b[1;33m\u001b[0m\u001b[1;33m\u001b[0m\u001b[0m\n\u001b[0m",
      "\u001b[1;31mIndexError\u001b[0m: string index out of range"
     ]
    }
   ],
   "source": [
    "print(riya[11])"
   ]
  },
  {
   "cell_type": "code",
   "execution_count": 37,
   "id": "58d1ab62",
   "metadata": {},
   "outputs": [
    {
     "name": "stdout",
     "output_type": "stream",
     "text": [
      "11\n"
     ]
    }
   ],
   "source": [
    "print(len(riya1))"
   ]
  },
  {
   "cell_type": "code",
   "execution_count": 41,
   "id": "eac325dd",
   "metadata": {},
   "outputs": [
    {
     "name": "stdout",
     "output_type": "stream",
     "text": [
      "h\n"
     ]
    }
   ],
   "source": [
    "print(riya1[0])"
   ]
  },
  {
   "cell_type": "code",
   "execution_count": 42,
   "id": "c580c30c",
   "metadata": {},
   "outputs": [
    {
     "name": "stdout",
     "output_type": "stream",
     "text": [
      "o\n"
     ]
    }
   ],
   "source": [
    "print(riya1[1])"
   ]
  },
  {
   "cell_type": "code",
   "execution_count": 43,
   "id": "1c3a9262",
   "metadata": {},
   "outputs": [
    {
     "name": "stdout",
     "output_type": "stream",
     "text": [
      "w\n"
     ]
    }
   ],
   "source": [
    "print(riya1[2])\n"
   ]
  },
  {
   "cell_type": "code",
   "execution_count": 46,
   "id": "83552b79",
   "metadata": {},
   "outputs": [
    {
     "name": "stdout",
     "output_type": "stream",
     "text": [
      " \n"
     ]
    }
   ],
   "source": [
    "print(riya1[3])"
   ]
  },
  {
   "cell_type": "code",
   "execution_count": 47,
   "id": "de9b925a",
   "metadata": {},
   "outputs": [
    {
     "name": "stdout",
     "output_type": "stream",
     "text": [
      "a\n"
     ]
    }
   ],
   "source": [
    "print(riya1[4])"
   ]
  },
  {
   "cell_type": "code",
   "execution_count": 48,
   "id": "ed18018a",
   "metadata": {},
   "outputs": [
    {
     "name": "stdout",
     "output_type": "stream",
     "text": [
      "r\n"
     ]
    }
   ],
   "source": [
    "print(riya1[5])\n",
    "           "
   ]
  },
  {
   "cell_type": "code",
   "execution_count": 49,
   "id": "5d348082",
   "metadata": {},
   "outputs": [
    {
     "name": "stdout",
     "output_type": "stream",
     "text": [
      "e\n"
     ]
    }
   ],
   "source": [
    "print(riya1[6])"
   ]
  },
  {
   "cell_type": "code",
   "execution_count": 50,
   "id": "b198170f",
   "metadata": {},
   "outputs": [
    {
     "name": "stdout",
     "output_type": "stream",
     "text": [
      " \n"
     ]
    }
   ],
   "source": [
    "print(riya1[7])"
   ]
  },
  {
   "cell_type": "code",
   "execution_count": 55,
   "id": "31eaaaf6",
   "metadata": {},
   "outputs": [
    {
     "name": "stdout",
     "output_type": "stream",
     "text": [
      "y\n"
     ]
    }
   ],
   "source": [
    "print(riya1[8])"
   ]
  },
  {
   "cell_type": "code",
   "execution_count": 52,
   "id": "cf736add",
   "metadata": {},
   "outputs": [
    {
     "name": "stdout",
     "output_type": "stream",
     "text": [
      "o\n"
     ]
    }
   ],
   "source": [
    "print(riya1[9])"
   ]
  },
  {
   "cell_type": "code",
   "execution_count": 53,
   "id": "be2834f5",
   "metadata": {},
   "outputs": [
    {
     "name": "stdout",
     "output_type": "stream",
     "text": [
      "u\n"
     ]
    }
   ],
   "source": [
    "print(riya1[10])"
   ]
  },
  {
   "cell_type": "code",
   "execution_count": 54,
   "id": "9345a373",
   "metadata": {},
   "outputs": [
    {
     "ename": "IndexError",
     "evalue": "string index out of range",
     "output_type": "error",
     "traceback": [
      "\u001b[1;31m---------------------------------------------------------------------------\u001b[0m",
      "\u001b[1;31mIndexError\u001b[0m                                Traceback (most recent call last)",
      "\u001b[1;32m~\\AppData\\Local\\Temp\\ipykernel_3436\\1170875398.py\u001b[0m in \u001b[0;36m<module>\u001b[1;34m\u001b[0m\n\u001b[1;32m----> 1\u001b[1;33m \u001b[0mprint\u001b[0m\u001b[1;33m(\u001b[0m\u001b[0mriya1\u001b[0m\u001b[1;33m[\u001b[0m\u001b[1;36m11\u001b[0m\u001b[1;33m]\u001b[0m\u001b[1;33m)\u001b[0m\u001b[1;33m\u001b[0m\u001b[1;33m\u001b[0m\u001b[0m\n\u001b[0m",
      "\u001b[1;31mIndexError\u001b[0m: string index out of range"
     ]
    }
   ],
   "source": [
    "print(riya1[11])"
   ]
  },
  {
   "cell_type": "code",
   "execution_count": 56,
   "id": "01c69777",
   "metadata": {},
   "outputs": [
    {
     "name": "stdout",
     "output_type": "stream",
     "text": [
      "73\n"
     ]
    }
   ],
   "source": [
    "print(len(r))"
   ]
  },
  {
   "cell_type": "code",
   "execution_count": 57,
   "id": "2d53b024",
   "metadata": {},
   "outputs": [
    {
     "name": "stdout",
     "output_type": "stream",
     "text": [
      "t\n"
     ]
    }
   ],
   "source": [
    "print(r[0])"
   ]
  },
  {
   "cell_type": "code",
   "execution_count": 60,
   "id": "d23457d2",
   "metadata": {},
   "outputs": [
    {
     "name": "stdout",
     "output_type": "stream",
     "text": [
      "r\n"
     ]
    }
   ],
   "source": [
    "print(r[1])"
   ]
  },
  {
   "cell_type": "code",
   "execution_count": 61,
   "id": "eb7eeae2",
   "metadata": {},
   "outputs": [
    {
     "name": "stdout",
     "output_type": "stream",
     "text": [
      "i\n"
     ]
    }
   ],
   "source": [
    "print(r[2])"
   ]
  },
  {
   "cell_type": "code",
   "execution_count": 62,
   "id": "97acfcf8",
   "metadata": {},
   "outputs": [
    {
     "name": "stdout",
     "output_type": "stream",
     "text": [
      "p\n"
     ]
    }
   ],
   "source": [
    "print(r[3])"
   ]
  },
  {
   "cell_type": "code",
   "execution_count": 63,
   "id": "373603e4",
   "metadata": {},
   "outputs": [
    {
     "name": "stdout",
     "output_type": "stream",
     "text": [
      "l\n"
     ]
    }
   ],
   "source": [
    "print(r[4])"
   ]
  },
  {
   "cell_type": "code",
   "execution_count": 64,
   "id": "2ccbad86",
   "metadata": {},
   "outputs": [
    {
     "name": "stdout",
     "output_type": "stream",
     "text": [
      "e\n"
     ]
    }
   ],
   "source": [
    "print(r[5])"
   ]
  },
  {
   "cell_type": "code",
   "execution_count": 65,
   "id": "c821c8ca",
   "metadata": {},
   "outputs": [
    {
     "name": "stdout",
     "output_type": "stream",
     "text": [
      " \n"
     ]
    }
   ],
   "source": [
    "print(r[6])"
   ]
  },
  {
   "cell_type": "code",
   "execution_count": 66,
   "id": "36b8a705",
   "metadata": {},
   "outputs": [
    {
     "name": "stdout",
     "output_type": "stream",
     "text": [
      "q\n"
     ]
    }
   ],
   "source": [
    "print(r[7])"
   ]
  },
  {
   "cell_type": "code",
   "execution_count": 67,
   "id": "495ce044",
   "metadata": {},
   "outputs": [
    {
     "name": "stdout",
     "output_type": "stream",
     "text": [
      "[8]\n"
     ]
    }
   ],
   "source": [
    "print([8])"
   ]
  },
  {
   "cell_type": "code",
   "execution_count": 68,
   "id": "2b2e979c",
   "metadata": {},
   "outputs": [
    {
     "name": "stdout",
     "output_type": "stream",
     "text": [
      "o\n"
     ]
    }
   ],
   "source": [
    "print(r[9])"
   ]
  },
  {
   "cell_type": "code",
   "execution_count": 69,
   "id": "3a90a09b",
   "metadata": {},
   "outputs": [
    {
     "name": "stdout",
     "output_type": "stream",
     "text": [
      "t\n"
     ]
    }
   ],
   "source": [
    "print(r[10])\n",
    "    "
   ]
  },
  {
   "cell_type": "code",
   "execution_count": null,
   "id": "1b1efadb",
   "metadata": {},
   "outputs": [],
   "source": [
    "prin"
   ]
  }
 ],
 "metadata": {
  "kernelspec": {
   "display_name": "Python 3 (ipykernel)",
   "language": "python",
   "name": "python3"
  },
  "language_info": {
   "codemirror_mode": {
    "name": "ipython",
    "version": 3
   },
   "file_extension": ".py",
   "mimetype": "text/x-python",
   "name": "python",
   "nbconvert_exporter": "python",
   "pygments_lexer": "ipython3",
   "version": "3.9.13"
  }
 },
 "nbformat": 4,
 "nbformat_minor": 5
}
